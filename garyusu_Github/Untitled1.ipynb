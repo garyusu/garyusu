{
 "cells": [
  {
   "cell_type": "code",
   "execution_count": 34,
   "source": [
    "import requests  #用於get請求\r\n",
    "from bs4 import BeautifulSoup as bs #網頁分析\r\n",
    "from os import mkdir #建資料夾(目錄)\r\n",
    "\r\n",
    "url = \"https://www.esjzone.cc/detail/1595767185.html\"\r\n",
    "cookie = 'hidden=value; _ga=GA1.2.679718639.1625623412; hidden=value; 1632454042=1632454042.9163613319; _gid=GA1.2.1684305679.1632622967; e_token=c47dce5bc1aFXVLjpOYF1zqtY3SGjYejpRox9aR2vffqEmzCGdpjVAVdBXK3tNJz2Dg-SRWflDoNSCJm4my8fxzzqZ06eXmTAX6Yn3CpG1AJZPtp2_ZcWLkTACDrA; last_visit_post=128496; last_visit_code=1602082116; _gat=1'\r\n",
    "\r\n",
    "req_header={\r\n",
    "    'Accept':'text/html,application/xhtml+xml,application/xml;q=0.9,image/avif,image/webp,image/apng,*/*;q=0.8,application/signed-exchange;v=b3;q=0.9',\r\n",
    "    'Accept-Encoding':'gzip, deflate',\r\n",
    "    'Accept-Language':'zh-CN,zh;q=0.8',\r\n",
    "    'Cookie':cookie,\r\n",
    "    'Upgrade-Insecure-Requests':'1',\r\n",
    "    'User-Agent':'Mozilla/5.0 (Windows NT 10.0; Win64; x64) AppleWebKit/537.36 (KHTML, like Gecko) Chrome/93.0.4577.82 Safari/537.36'\r\n",
    "}  "
   ],
   "outputs": [],
   "metadata": {}
  },
  {
   "cell_type": "code",
   "execution_count": 35,
   "source": [
    "def get_one_novel(url):\r\n",
    "    r = requests.get(url, headers = req_header)\r\n",
    "    soup = bs(r.text, \"html.parser\")\r\n",
    "    \r\n",
    "    if r.status_code != 200:\r\n",
    "        print(r.status_code)\r\n",
    "    div_list = soup.select('div#chapterList') #整個目錄頁面\r\n",
    "    # a_list_title = soup.select('div#chapterList > p.non') #卷標題\r\n",
    "    # a_list_p = soup.select('div#chapterList > a > p')   #小說內容\r\n",
    "    # print(div_list)\r\n",
    "\r\n",
    "    for ele in div_list[0]: #一次抓一層標籤出來\r\n",
    "        if ele.name == 'p':\r\n",
    "            mkdir(ele.text)\r\n",
    "            ele_path = str( ele.text ) #資料夾名稱\r\n",
    "            \r\n",
    "        if ele.name == 'a':\r\n",
    "            r2 = requests.get(ele['href'], headers = req_header)\r\n",
    "            r2.encoding = r2.apparent_encoding\r\n",
    "            soup2 = bs(r2.text , \"html.parser\").select('div.forum-content.mt-3 > p')\r\n",
    "            a_str = os.getcwd()+'/'+ ele_path + '/' + ele.text + '.txt' #小說檔名\r\n",
    "            # os.getcwd() 取得當前路徑\r\n",
    "            with open(a_str, 'a',encoding=\"utf-8\") as txt:\r\n",
    "                for s in soup2:\r\n",
    "                    txt.write(s.text + '\\n')\r\n",
    "            txt.close\r\n",
    "        \r\n",
    "    print(\"Done!!\")"
   ],
   "outputs": [],
   "metadata": {}
  },
  {
   "cell_type": "code",
   "execution_count": 36,
   "source": [
    "get_one_novel(url)"
   ],
   "outputs": [
    {
     "output_type": "error",
     "ename": "IndexError",
     "evalue": "list index out of range",
     "traceback": [
      "\u001b[1;31m---------------------------------------------------------------------------\u001b[0m",
      "\u001b[1;31mIndexError\u001b[0m                                Traceback (most recent call last)",
      "\u001b[1;32m<ipython-input-36-76d74cf8b392>\u001b[0m in \u001b[0;36m<module>\u001b[1;34m\u001b[0m\n\u001b[1;32m----> 1\u001b[1;33m \u001b[0mget_one_novel\u001b[0m\u001b[1;33m(\u001b[0m\u001b[0murl\u001b[0m\u001b[1;33m)\u001b[0m\u001b[1;33m\u001b[0m\u001b[0m\n\u001b[0m",
      "\u001b[1;32m<ipython-input-35-852ff8ae54cc>\u001b[0m in \u001b[0;36mget_one_novel\u001b[1;34m(url)\u001b[0m\n\u001b[0;32m      9\u001b[0m     \u001b[0ma_list_p\u001b[0m \u001b[1;33m=\u001b[0m \u001b[0msoup\u001b[0m\u001b[1;33m.\u001b[0m\u001b[0mselect\u001b[0m\u001b[1;33m(\u001b[0m\u001b[1;34m'div#chapterList > a > p'\u001b[0m\u001b[1;33m)\u001b[0m   \u001b[1;31m#小說內容\u001b[0m\u001b[1;33m\u001b[0m\u001b[0m\n\u001b[0;32m     10\u001b[0m     \u001b[1;31m# print(div_list)\u001b[0m\u001b[1;33m\u001b[0m\u001b[1;33m\u001b[0m\u001b[0m\n\u001b[1;32m---> 11\u001b[1;33m     \u001b[0mprint\u001b[0m\u001b[1;33m(\u001b[0m\u001b[0mdiv_list\u001b[0m\u001b[1;33m[\u001b[0m\u001b[1;36m1\u001b[0m\u001b[1;33m]\u001b[0m\u001b[1;33m)\u001b[0m\u001b[1;33m\u001b[0m\u001b[0m\n\u001b[0m\u001b[0;32m     12\u001b[0m \u001b[1;33m\u001b[0m\u001b[0m\n\u001b[0;32m     13\u001b[0m     \u001b[1;31m# for ele in div_list[0]: #一次抓一層標籤出來\u001b[0m\u001b[1;33m\u001b[0m\u001b[1;33m\u001b[0m\u001b[0m\n",
      "\u001b[1;31mIndexError\u001b[0m: list index out of range"
     ]
    }
   ],
   "metadata": {}
  }
 ],
 "metadata": {
  "kernelspec": {
   "name": "python3",
   "display_name": "Python 3.6.4 64-bit"
  },
  "language_info": {
   "codemirror_mode": {
    "name": "ipython",
    "version": 3
   },
   "file_extension": ".py",
   "mimetype": "text/x-python",
   "name": "python",
   "nbconvert_exporter": "python",
   "pygments_lexer": "ipython3",
   "version": "3.6.4"
  },
  "interpreter": {
   "hash": "ee69a87a384a9e5de2af409bb79e6023a90dcc6a267c1670dc7970723bca6d64"
  }
 },
 "nbformat": 4,
 "nbformat_minor": 5
}